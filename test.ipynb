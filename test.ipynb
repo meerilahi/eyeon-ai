{
 "cells": [
  {
   "cell_type": "code",
   "execution_count": 2,
   "id": "6baafd56",
   "metadata": {},
   "outputs": [
    {
     "data": {
      "text/plain": [
       "True"
      ]
     },
     "execution_count": 2,
     "metadata": {},
     "output_type": "execute_result"
    }
   ],
   "source": [
    "import firebase_admin\n",
    "from firebase_admin import credentials, firestore, storage, auth\n",
    "from dotenv import load_dotenv\n",
    "import os\n",
    "load_dotenv()"
   ]
  },
  {
   "cell_type": "code",
   "execution_count": 3,
   "id": "cd0b6638",
   "metadata": {},
   "outputs": [
    {
     "name": "stdout",
     "output_type": "stream",
     "text": [
      "firebase_admin._apps: {}\n"
     ]
    }
   ],
   "source": [
    "firebase_app = None\n",
    "_firestore_db = None\n",
    "_firebase_bucket = None\n",
    "\n",
    "def init_firebase():\n",
    "    global firebase_app, _firestore_db, _firebase_bucket\n",
    "    print(f\"firebase_admin._apps: {firebase_admin._apps}\")\n",
    "    if not firebase_admin._apps:\n",
    "        cred = credentials.Certificate(os.environ[\"firebase_creds_path\"])\n",
    "        firebase_app = firebase_admin.initialize_app(cred, {\n",
    "            \"storageBucket\": f\"{os.environ[\"firebase_project_id\"]}.appspot.com\"\n",
    "        })\n",
    "        _firestore_db = firestore.client()\n",
    "        _firebase_bucket = storage.bucket()\n",
    "\n",
    "init_firebase()"
   ]
  },
  {
   "cell_type": "code",
   "execution_count": 5,
   "id": "cbf6fc2c",
   "metadata": {},
   "outputs": [
    {
     "name": "stdout",
     "output_type": "stream",
     "text": [
      "<firebase_admin._user_mgt.UserRecord object at 0x71f5bc288c20>\n"
     ]
    }
   ],
   "source": [
    "user = auth.create_user(email=\"meerilahidilawar@gmail.com\", password=\"12345678\")\n",
    "print(user)"
   ]
  },
  {
   "cell_type": "code",
   "execution_count": null,
   "id": "513950a7",
   "metadata": {},
   "outputs": [],
   "source": []
  }
 ],
 "metadata": {
  "kernelspec": {
   "display_name": ".venv",
   "language": "python",
   "name": "python3"
  },
  "language_info": {
   "codemirror_mode": {
    "name": "ipython",
    "version": 3
   },
   "file_extension": ".py",
   "mimetype": "text/x-python",
   "name": "python",
   "nbconvert_exporter": "python",
   "pygments_lexer": "ipython3",
   "version": "3.13.3"
  }
 },
 "nbformat": 4,
 "nbformat_minor": 5
}
