{
 "cells": [
  {
   "cell_type": "code",
   "execution_count": 1,
   "id": "e5b8481b",
   "metadata": {},
   "outputs": [
    {
     "data": {
      "text/plain": [
       "True"
      ]
     },
     "execution_count": 1,
     "metadata": {},
     "output_type": "execute_result"
    }
   ],
   "source": [
    "import sqlite3\n",
    "from langgraph.graph import MessagesState, StateGraph, START, END\n",
    "from langchain_core.messages import HumanMessage, SystemMessage, RemoveMessage\n",
    "from langchain_openai import ChatOpenAI\n",
    "from langgraph.checkpoint.sqlite import SqliteSaver\n",
    "from app.agent.tools import tools\n",
    "from langgraph.prebuilt import ToolNode, tools_condition\n",
    "from typing import List, Optional\n",
    "from dotenv import load_dotenv\n",
    "load_dotenv()"
   ]
  },
  {
   "cell_type": "code",
   "execution_count": null,
   "id": "d0fdd336",
   "metadata": {},
   "outputs": [],
   "source": [
    "db_path = \"chatbot_memory.db\"\n",
    "conn = sqlite3.connect(db_path, check_same_thread=False)\n",
    "memory = SqliteSaver(conn)"
   ]
  },
  {
   "cell_type": "code",
   "execution_count": null,
   "id": "907e1213",
   "metadata": {},
   "outputs": [],
   "source": [
    "llm = ChatOpenAI(model=\"gpt-4o\", temperature=0)\n",
    "llm_with_tools = llm.bind_tools(tools)"
   ]
  },
  {
   "cell_type": "code",
   "execution_count": 4,
   "id": "92fabf02",
   "metadata": {},
   "outputs": [],
   "source": [
    "class ChatbotState(MessagesState):\n",
    "    summary: Optional[str] = None"
   ]
  },
  {
   "cell_type": "code",
   "execution_count": null,
   "id": "fbe2f5cf",
   "metadata": {},
   "outputs": [],
   "source": [
    "# --- Assistant Node ---\n",
    "system_message = SystemMessage(\n",
    "    content=\"You are a home surveillance assistant. Help users manage security events. Use tools to perform actions like create, update, delete, or read events.\"\n",
    ")\n",
    "\n",
    "def assistant_node(state: ChatbotState):\n",
    "    messages = state[\"messages\"]\n",
    "    summary = state.get(\"summary\")\n",
    "    if summary:\n",
    "        context = SystemMessage(content=f\"Summary of earlier conversation: {summary}\")\n",
    "        messages = [context] + messages\n",
    "    response = llm_with_tools.invoke(messages)\n",
    "    return {\"messages\": [response]}"
   ]
  },
  {
   "cell_type": "code",
   "execution_count": null,
   "id": "83ea7ea2",
   "metadata": {},
   "outputs": [],
   "source": [
    "# --- Summarize Node ---\n",
    "def summarize_conversation(state: ChatbotState):\n",
    "    summary = state.get(\"summary\", \"\")\n",
    "    summary_prompt = (\n",
    "        f\"This is the current summary: {summary}\\n\\n\"\n",
    "        \"Update the summary based on the new conversation above.\"\n",
    "        if summary else\n",
    "        \"Summarize the conversation above:\"\n",
    "    )\n",
    "    messages = state[\"messages\"] + [HumanMessage(content=summary_prompt)]\n",
    "    response = llm.invoke(messages)\n",
    "    recent = state[\"messages\"][-2:]\n",
    "    delete_messages = [RemoveMessage(id=m.id) for m in state[\"messages\"][:-2]]\n",
    "\n",
    "    return {\n",
    "        \"summary\": response.content,\n",
    "        \"messages\": recent + delete_messages,\n",
    "    }"
   ]
  },
  {
   "cell_type": "code",
   "execution_count": null,
   "id": "60bcb59b",
   "metadata": {},
   "outputs": [],
   "source": [
    "# --- Condition: Decide whether to end or summarize ---\n",
    "def should_continue(state: ChatbotState):\n",
    "    if len(state[\"messages\"]) > 6:\n",
    "        return \"summarize_conversation\"\n",
    "    return END"
   ]
  },
  {
   "cell_type": "code",
   "execution_count": null,
   "id": "9554f90d",
   "metadata": {},
   "outputs": [],
   "source": [
    "# --- LangGraph Construction ---\n",
    "builder = StateGraph(ChatbotState)\n",
    "builder.add_node(\"assistant\", assistant_node)\n",
    "builder.add_node(\"tools\", ToolNode(tools))\n",
    "builder.add_node(\"summarize_conversation\", summarize_conversation)\n",
    "\n",
    "builder.set_entry_point(\"assistant\")\n",
    "\n",
    "# Assistant node -> tool or END\n",
    "builder.add_conditional_edges(\"assistant\", tools_condition)\n",
    "builder.add_edge(\"tools\", \"assistant\")\n",
    "builder.add_conditional_edges(\"assistant\", should_continue)\n",
    "builder.add_edge(\"summarize_conversation\", END)\n",
    "\n",
    "# Compile with memory\n",
    "chat_graph = builder.compile(checkpointer=memory)"
   ]
  },
  {
   "cell_type": "code",
   "execution_count": null,
   "id": "6fba6533",
   "metadata": {},
   "outputs": [],
   "source": [
    "# --- Public async function to use chatbot ---\n",
    "async def run_chatbot_agent(message: str, user_id: str) -> str:\n",
    "    input_msg = HumanMessage(content=message)\n",
    "    config = {\"configurable\": {\"thread_id\": user_id}}\n",
    "\n",
    "    result = await chat_graph.ainvoke({\"messages\": [input_msg]}, config)\n",
    "    messages: List = result[\"messages\"]\n",
    "\n",
    "    return messages[-1].content if messages else \"No response generated.\"\n"
   ]
  },
  {
   "cell_type": "code",
   "execution_count": null,
   "id": "d3d239ed",
   "metadata": {},
   "outputs": [],
   "source": []
  },
  {
   "cell_type": "code",
   "execution_count": null,
   "id": "aa09ec4e",
   "metadata": {},
   "outputs": [],
   "source": []
  }
 ],
 "metadata": {
  "kernelspec": {
   "display_name": ".venv",
   "language": "python",
   "name": "python3"
  },
  "language_info": {
   "codemirror_mode": {
    "name": "ipython",
    "version": 3
   },
   "file_extension": ".py",
   "mimetype": "text/x-python",
   "name": "python",
   "nbconvert_exporter": "python",
   "pygments_lexer": "ipython3",
   "version": "3.13.3"
  }
 },
 "nbformat": 4,
 "nbformat_minor": 5
}
