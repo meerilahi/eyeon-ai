{
 "cells": [
  {
   "cell_type": "code",
   "execution_count": null,
   "id": "262c7e72",
   "metadata": {
    "vscode": {
     "languageId": "plaintext"
    }
   },
   "outputs": [],
   "source": []
  }
 ],
 "metadata": {
  "language_info": {
   "name": "python"
  }
 },
 "nbformat": 4,
 "nbformat_minor": 5
}
