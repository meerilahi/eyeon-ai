{
 "cells": [
  {
   "cell_type": "code",
   "execution_count": 26,
   "id": "2a2d8021",
   "metadata": {},
   "outputs": [],
   "source": [
    "import os\n",
    "import json\n",
    "from dotenv import load_dotenv\n",
    "from supabase import create_client\n",
    "from langchain_openai import ChatOpenAI\n",
    "from langchain_core.tools import tool\n",
    "from langchain_core.messages import HumanMessage, SystemMessage\n",
    "from langgraph.graph import StateGraph, MessagesState, END, START\n",
    "from langgraph.prebuilt.tool_node import ToolNode, tools_condition\n",
    "from langgraph.checkpoint.postgres.aio import AsyncPostgresSaver"
   ]
  },
  {
   "cell_type": "code",
   "execution_count": 27,
   "id": "b92c13b8",
   "metadata": {},
   "outputs": [],
   "source": [
    "load_dotenv()\n",
    "SUPABASE_URL = os.getenv(\"SUPABASE_URL\")\n",
    "SUPABASE_KEY = os.getenv(\"SUPABASE_KEY\")\n",
    "SUPABASE_CONNECTION_STRING = os.getenv(\"SUPABASE_CONNECTION_STRING\")"
   ]
  },
  {
   "cell_type": "code",
   "execution_count": 28,
   "id": "582759f4",
   "metadata": {},
   "outputs": [],
   "source": [
    "supabase = create_client(SUPABASE_URL, SUPABASE_KEY)\n",
    "memory = AsyncPostgresSaver.from_conn_string(SUPABASE_CONNECTION_STRING)"
   ]
  },
  {
   "cell_type": "code",
   "execution_count": 29,
   "id": "373ce63b",
   "metadata": {},
   "outputs": [],
   "source": [
    "@tool\n",
    "def update_active_events_tool(active_events: list):\n",
    "    \"\"\"\n",
    "    Updates the active events list saves it to Supabase.\n",
    "    \"\"\"\n",
    "    try:\n",
    "        supabase.table(\"active_events\").upsert({\"id\": 1, \"events\": active_events}).execute()\n",
    "    except Exception as e:\n",
    "        return f\"Error parsing JSON: {e}\""
   ]
  },
  {
   "cell_type": "code",
   "execution_count": 42,
   "id": "8767cf4b",
   "metadata": {},
   "outputs": [],
   "source": [
    "llm = ChatOpenAI(model=\"gpt-4o\", temperature=0)\n",
    "llm_with_tools = llm.bind_tools([update_active_events_tool], return_direct=True)"
   ]
  },
  {
   "cell_type": "code",
   "execution_count": 33,
   "id": "f245b54d",
   "metadata": {},
   "outputs": [],
   "source": [
    "MODEL_SYSTEM_MESSAGE = \"\"\"You are an AI assistant that helps users manage their home security system.\n",
    "You can update the user's active monitoring events based on their requests.\n",
    "You have access to a tool called update_active_events_tool that allows you to modify the active events list.\n",
    "You can use this tool to add, remove, or modify events as per the user's instructions.\n",
    "You have read-only knowledge of the user's cameras and their descriptions to understand event requests.\n",
    "Camera descriptions (read-only, do not change):\n",
    "{cameras}\n",
    "Current active events (editable):\n",
    "{active_events}\n",
    "INSTRUCTIONS:\n",
    "1. Identify any updates to the active events list:\n",
    "    - Add new events explicitly mentioned by the user.\n",
    "    - Remove events that the user explicitly requests to stop monitoring.\n",
    "    - Modify existing events if the user provides new details.  \n",
    "    \"\"\"\n"
   ]
  },
  {
   "cell_type": "code",
   "execution_count": 34,
   "id": "bba623bd",
   "metadata": {},
   "outputs": [],
   "source": [
    "class AgentState(MessagesState):\n",
    "    active_events: list\n",
    "    cameras: list"
   ]
  },
  {
   "cell_type": "code",
   "execution_count": 48,
   "id": "f7c6dcc3",
   "metadata": {},
   "outputs": [],
   "source": [
    "def chat_node(state: AgentState):\n",
    "    system_message = SystemMessage(\n",
    "        content=MODEL_SYSTEM_MESSAGE.format(\n",
    "            cameras=json.dumps(state[\"cameras\"], indent=2),\n",
    "            active_events=json.dumps(state[\"active_events\"], indent=2)\n",
    "        )\n",
    "    )    \n",
    "    messages = [system_message] + state[\"chat_history\"]\n",
    "    reply = llm_with_tools.invoke(messages)\n",
    "    return {\"chat_history\": state[\"chat_history\"] + [reply]}\n"
   ]
  },
  {
   "cell_type": "code",
   "execution_count": 50,
   "id": "6d96b5a5",
   "metadata": {},
   "outputs": [],
   "source": [
    "def confirmation_node(state: AgentState):\n",
    "    updated_events = json.dumps(state[\"active_events\"], indent=2)\n",
    "    message = f\"I've updated your active events list. Here’s the current list:\\n{updated_events}\"\n",
    "    return {\"chat_history\": state[\"chat_history\"] + [HumanMessage(content=message)]}"
   ]
  },
  {
   "cell_type": "code",
   "execution_count": null,
   "id": "5f25182c",
   "metadata": {},
   "outputs": [
    {
     "ename": "ValueError",
     "evalue": "No messages found in input state to tool_edge: bound=ChatOpenAI(client=<openai.resources.chat.completions.completions.Completions object at 0x760598a8e030>, async_client=<openai.resources.chat.completions.completions.AsyncCompletions object at 0x760598a8e360>, root_client=<openai.OpenAI object at 0x760598a8de10>, root_async_client=<openai.AsyncOpenAI object at 0x760598a8e140>, model_name='gpt-4o', temperature=0.0, model_kwargs={}, openai_api_key=SecretStr('**********')) kwargs={'tools': [{'type': 'function', 'function': {'name': 'update_active_events_tool', 'description': 'Updates the active events list saves it to Supabase.', 'parameters': {'properties': {'active_events': {'items': {}, 'type': 'array'}}, 'required': ['active_events'], 'type': 'object'}}}], 'return_direct': True} config={} config_factories=[]",
     "output_type": "error",
     "traceback": [
      "\u001b[31m---------------------------------------------------------------------------\u001b[39m",
      "\u001b[31mValueError\u001b[39m                                Traceback (most recent call last)",
      "\u001b[36mCell\u001b[39m\u001b[36m \u001b[39m\u001b[32mIn[49]\u001b[39m\u001b[32m, line 5\u001b[39m\n\u001b[32m      3\u001b[39m graph_builder.add_node(\u001b[33m\"\u001b[39m\u001b[33mupdate_events\u001b[39m\u001b[33m\"\u001b[39m, ToolNode(tools=[update_active_events_tool]))\n\u001b[32m      4\u001b[39m graph_builder.add_edge(START, \u001b[33m\"\u001b[39m\u001b[33mchat\u001b[39m\u001b[33m\"\u001b[39m)\n\u001b[32m----> \u001b[39m\u001b[32m5\u001b[39m graph_builder.add_conditional_edges(\u001b[33m\"\u001b[39m\u001b[33mchat\u001b[39m\u001b[33m\"\u001b[39m, \u001b[33m\"\u001b[39m\u001b[33mupdate_events\u001b[39m\u001b[33m\"\u001b[39m,\u001b[43mtools_condition\u001b[49m\u001b[43m(\u001b[49m\u001b[43mllm_with_tools\u001b[49m\u001b[43m)\u001b[49m)\n\u001b[32m      6\u001b[39m graph_builder.add_edge(\u001b[33m\"\u001b[39m\u001b[33mupdate_events\u001b[39m\u001b[33m\"\u001b[39m, END)\n\u001b[32m      7\u001b[39m agent = graph_builder.compile()\n",
      "\u001b[36mFile \u001b[39m\u001b[32m~/Repositories/eyeon-ai/.venv/lib/python3.13/site-packages/langgraph/prebuilt/tool_node.py:848\u001b[39m, in \u001b[36mtools_condition\u001b[39m\u001b[34m(state, messages_key)\u001b[39m\n\u001b[32m    846\u001b[39m     ai_message = messages[-\u001b[32m1\u001b[39m]\n\u001b[32m    847\u001b[39m \u001b[38;5;28;01melse\u001b[39;00m:\n\u001b[32m--> \u001b[39m\u001b[32m848\u001b[39m     \u001b[38;5;28;01mraise\u001b[39;00m \u001b[38;5;167;01mValueError\u001b[39;00m(\u001b[33mf\u001b[39m\u001b[33m\"\u001b[39m\u001b[33mNo messages found in input state to tool_edge: \u001b[39m\u001b[38;5;132;01m{\u001b[39;00mstate\u001b[38;5;132;01m}\u001b[39;00m\u001b[33m\"\u001b[39m)\n\u001b[32m    849\u001b[39m \u001b[38;5;28;01mif\u001b[39;00m \u001b[38;5;28mhasattr\u001b[39m(ai_message, \u001b[33m\"\u001b[39m\u001b[33mtool_calls\u001b[39m\u001b[33m\"\u001b[39m) \u001b[38;5;129;01mand\u001b[39;00m \u001b[38;5;28mlen\u001b[39m(ai_message.tool_calls) > \u001b[32m0\u001b[39m:\n\u001b[32m    850\u001b[39m     \u001b[38;5;28;01mreturn\u001b[39;00m \u001b[33m\"\u001b[39m\u001b[33mtools\u001b[39m\u001b[33m\"\u001b[39m\n",
      "\u001b[31mValueError\u001b[39m: No messages found in input state to tool_edge: bound=ChatOpenAI(client=<openai.resources.chat.completions.completions.Completions object at 0x760598a8e030>, async_client=<openai.resources.chat.completions.completions.AsyncCompletions object at 0x760598a8e360>, root_client=<openai.OpenAI object at 0x760598a8de10>, root_async_client=<openai.AsyncOpenAI object at 0x760598a8e140>, model_name='gpt-4o', temperature=0.0, model_kwargs={}, openai_api_key=SecretStr('**********')) kwargs={'tools': [{'type': 'function', 'function': {'name': 'update_active_events_tool', 'description': 'Updates the active events list saves it to Supabase.', 'parameters': {'properties': {'active_events': {'items': {}, 'type': 'array'}}, 'required': ['active_events'], 'type': 'object'}}}], 'return_direct': True} config={} config_factories=[]"
     ]
    }
   ],
   "source": [
    "graph_builder = StateGraph(AgentState)\n",
    "\n",
    "graph_builder.add_node(\"chat\", chat_node)\n",
    "graph_builder.add_node(\"update_events\", ToolNode(tools=[update_active_events_tool]))\n",
    "graph_builder.add_node(\"confirmation\", confirmation_node)\n",
    "\n",
    "graph_builder.add_edge(START, \"chat\")\n",
    "graph_builder.add_conditional_edges(\"chat\", \"update_events\", tools_condition(llm_with_tools))\n",
    "graph_builder.add_edge(\"update_events\", \"confirmation\")\n",
    "graph_builder.add_edge(\"confirmation\", END)\n"
   ]
  },
  {
   "cell_type": "code",
   "execution_count": null,
   "id": "60fc1c8f",
   "metadata": {},
   "outputs": [
    {
     "data": {
      "text/plain": [
       "{'chat_history': \"User: Monitor the backyard for presence of a car.\\nAssistant: To monitor your backyard for the presence of a car, you can consider the following options:\\n\\n1. **Security Cameras**: Install security cameras with motion detection features. These cameras can send alerts to your phone or email when they detect movement, allowing you to check if a car is present.\\n\\n2. **Smart Sensors**: Use smart motion sensors that can detect large objects like cars. These sensors can be integrated with a smart home system to notify you of any activity.\\n\\n3. **Drones**: If you have a large backyard, consider using a drone for periodic aerial surveillance. Some drones can be programmed to patrol specific areas and send live video feeds to your device.\\n\\n4. **Lighting**: Install motion-activated lights in your backyard. While this won't directly notify you of a car's presence, it can deter unauthorized vehicles and alert you to movement when the lights turn on.\\n\\n5. **Regular Checks**: If feasible, perform regular physical checks of your backyard, especially if you suspect unauthorized access.\\n\\n6. **Professional Monitoring Services**: Consider hiring a professional security service that offers monitoring and can alert you to any unusual activity.\\n\\nEnsure that any monitoring method you choose complies with local privacy laws and regulations.\",\n",
       " 'active_events': [{'id': 'event1',\n",
       "   'description': 'Motion detected at front door'},\n",
       "  {'id': 'event2', 'description': 'Garage door opened'}],\n",
       " 'cameras': [{'id': 'cam1', 'description': 'Front door camera'},\n",
       "  {'id': 'cam2', 'description': 'Backyard camera'},\n",
       "  {'id': 'cam3', 'description': 'Garage camera'}]}"
      ]
     },
     "execution_count": 44,
     "metadata": {},
     "output_type": "execute_result"
    }
   ],
   "source": [
    "cameras = [\n",
    "    {\"id\": \"cam1\", \"description\": \"Front door camera\"},\n",
    "    {\"id\": \"cam2\", \"description\": \"Backyard camera\"},\n",
    "    {\"id\": \"cam3\", \"description\": \"Garage camera\"},\n",
    "]\n",
    "active_events = [\n",
    "    {\"id\": \"event1\", \"description\": \"Motion detected at front door\"},\n",
    "    {\"id\": \"event2\", \"description\": \"Garage door opened\"},\n",
    "]\n",
    "agent.invoke({\n",
    "    \"chat_history\": HumanMessage(content =\"User: Monitor the backyard for presence of a car.\"),\n",
    "    \"active_events\": active_events,\n",
    "    \"cameras\": cameras\n",
    "})"
   ]
  }
 ],
 "metadata": {
  "kernelspec": {
   "display_name": ".venv",
   "language": "python",
   "name": "python3"
  },
  "language_info": {
   "codemirror_mode": {
    "name": "ipython",
    "version": 3
   },
   "file_extension": ".py",
   "mimetype": "text/x-python",
   "name": "python",
   "nbconvert_exporter": "python",
   "pygments_lexer": "ipython3",
   "version": "3.13.3"
  }
 },
 "nbformat": 4,
 "nbformat_minor": 5
}
