{
 "cells": [
  {
   "cell_type": "code",
   "execution_count": 28,
   "id": "2a2d8021",
   "metadata": {},
   "outputs": [],
   "source": [
    "import os\n",
    "import json\n",
    "from dotenv import load_dotenv\n",
    "from supabase import create_client\n",
    "from langchain_openai import ChatOpenAI\n",
    "from langchain_core.tools import tool\n",
    "from langchain_core.messages import HumanMessage, SystemMessage, AIMessage\n",
    "from langgraph.graph import StateGraph, MessagesState, START\n",
    "from langgraph.prebuilt.tool_node import ToolNode, tools_condition\n",
    "from langgraph.checkpoint.postgres.aio import AsyncPostgresSaver\n",
    "from langgraph.checkpoint.postgres import PostgresSaver\n",
    "from langgraph.checkpoint.memory import MemorySaver"
   ]
  },
  {
   "cell_type": "code",
   "execution_count": 29,
   "id": "582759f4",
   "metadata": {},
   "outputs": [],
   "source": [
    "load_dotenv()\n",
    "SUPABASE_URL = os.getenv(\"SUPABASE_URL\")\n",
    "SUPABASE_KEY = os.getenv(\"SUPABASE_KEY\")\n",
    "SUPABASE_CONNECTION_STRING = os.getenv(\"SUPABASE_CONNECTION_STRING\")\n",
    "\n",
    "MODEL_SYSTEM_MESSAGE = \"\"\"You are an AI assistant that helps users manage their home security system.\n",
    "You can update the user's active monitoring events based on their requests.\n",
    "You have access to a tool called update_active_events_tool that allows you to modify the active events list.\n",
    "You can use this tool to add, remove, or modify events as per the user's instructions.\n",
    "You have read-only knowledge of the user's cameras and their descriptions to understand event requests.\n",
    "Camera descriptions (read-only, do not change):\n",
    "{cameras}\n",
    "Current active events (editable):\n",
    "{active_events}\n",
    "INSTRUCTIONS:\n",
    "1. Identify any updates to the active events list:\n",
    "    - Add new events explicitly mentioned by the user.\n",
    "    - Remove events that the user explicitly requests to stop monitoring.\n",
    "    - Modify existing events if the user provides new details.  \n",
    "    \"\"\"\n"
   ]
  },
  {
   "cell_type": "code",
   "execution_count": 31,
   "id": "373ce63b",
   "metadata": {},
   "outputs": [],
   "source": [
    "supabase = create_client(SUPABASE_URL, SUPABASE_KEY)\n",
    "memory = PostgresSaver.from_conn_string(SUPABASE_CONNECTION_STRING)\n",
    "\n",
    "@tool\n",
    "def update_active_events_tool(active_events: list[str]) -> None:\n",
    "    \"\"\"\n",
    "    Updates the active events  and list saves it to Supabase.\n",
    "    \"\"\"\n",
    "    try:\n",
    "        print(f\"Updating active events: {active_events}\")\n",
    "        supabase.table(\"active_events\").upsert({\"user_id\": \"70c75ce4-a3af-4661-81d1-42e28ee2df9f\", \"events\": active_events}).execute()\n",
    "    except Exception as e:\n",
    "        print(f\"Error parsing JSON: {e}\")\n",
    "    \n",
    "llm = ChatOpenAI(model=\"gpt-4o\", temperature=0)\n",
    "llm_with_tools = llm.bind_tools([update_active_events_tool])"
   ]
  },
  {
   "cell_type": "code",
   "execution_count": 32,
   "id": "f7c6dcc3",
   "metadata": {},
   "outputs": [],
   "source": [
    "class AgentState(MessagesState):\n",
    "    active_events: list\n",
    "    cameras: list\n",
    "\n",
    "def chat_node(state: AgentState):\n",
    "    system_message = SystemMessage(\n",
    "        content=MODEL_SYSTEM_MESSAGE.format(\n",
    "            cameras=json.dumps(state[\"cameras\"], indent=2),\n",
    "            active_events=json.dumps(state[\"active_events\"], indent=2)\n",
    "        )\n",
    "    )\n",
    "    messages = [system_message] + state[\"messages\"]\n",
    "    ai_reply = llm_with_tools.invoke(messages)\n",
    "    if not isinstance(ai_reply, AIMessage):\n",
    "        ai_reply = AIMessage(content=ai_reply.content)\n",
    "    return {\"messages\": state[\"messages\"] + [ai_reply]}\n",
    "\n",
    "graph_builder = StateGraph(AgentState)\n",
    "graph_builder.add_node(\"chat\", chat_node)\n",
    "graph_builder.add_node(\"tools\", ToolNode(tools=[update_active_events_tool]))\n",
    "graph_builder.add_edge(START, \"chat\")\n",
    "graph_builder.add_conditional_edges(\"chat\", tools_condition)\n",
    "graph_builder.add_edge(\"tools\", \"chat\")\n",
    "memory = MemorySaver()\n",
    "agent = graph_builder.compile(checkpointer=memory)\n"
   ]
  },
  {
   "cell_type": "code",
   "execution_count": 33,
   "id": "31019deb",
   "metadata": {},
   "outputs": [
    {
     "data": {
      "image/png": "[encoded data removed]",
      "text/plain": [
       "<IPython.core.display.Image object>"
      ]
     },
     "metadata": {},
     "output_type": "display_data"
    }
   ],
   "source": [
    "from IPython.display import display, Image\n",
    "display(Image(agent.get_graph(xray=True).draw_mermaid_png()))"
   ]
  },
  {
   "cell_type": "code",
   "execution_count": 34,
   "id": "60fc1c8f",
   "metadata": {},
   "outputs": [
    {
     "name": "stdout",
     "output_type": "stream",
     "text": [
      "Updating active events: ['Motion detected at front door', 'Garage door opened', 'Car presence detected in backyard']\n"
     ]
    }
   ],
   "source": [
    "cameras = [\n",
    "    {\"id\": \"cam1\", \"description\": \"Front door camera\"},\n",
    "    {\"id\": \"cam2\", \"description\": \"Backyard camera\"},\n",
    "    {\"id\": \"cam3\", \"description\": \"Garage camera\"},\n",
    "]\n",
    "active_events = [\"Motion detected at front door\",\"Garage door opened\"]\n",
    "config = {\"configurable\": {\"thread_id\": \"1\"}}\n",
    "response =  agent.invoke({\n",
    "    \"messages\": [HumanMessage(content =\"Monitor the backyard for presence of a car.\")],\n",
    "    \"active_events\": active_events,\n",
    "    \"cameras\": cameras\n",
    "},config=config)"
   ]
  },
  {
   "cell_type": "code",
   "execution_count": 35,
   "id": "1bb40c12",
   "metadata": {},
   "outputs": [
    {
     "name": "stdout",
     "output_type": "stream",
     "text": [
      "User: Monitor the backyard for presence of a car.\n",
      "AI: I will add a new event to monitor the backyard for the presence of a car. Let's update the active events list.\n",
      "AI: The active events list has been updated to monitor the backyard for the presence of a car. If you need any further adjustments, feel free to let me know!\n"
     ]
    }
   ],
   "source": [
    "response_messages = response[\"messages\"]\n",
    "for message in response_messages:\n",
    "    if isinstance(message, HumanMessage):\n",
    "        print(f\"User: {message.content}\")\n",
    "    elif isinstance(message, AIMessage):\n",
    "        print(f\"AI: {message.content}\")\n",
    "    elif isinstance(message, SystemMessage):\n",
    "        print(f\"System: {message.content}\")"
   ]
  },
  {
   "cell_type": "code",
   "execution_count": 36,
   "id": "cd552b21",
   "metadata": {},
   "outputs": [
    {
     "data": {
      "text/plain": [
       "APIResponse[TypeVar](data=[{'events': ['Motion detected at front door', 'Garage door opened', 'Car presence detected in backyard']}], count=None)"
      ]
     },
     "execution_count": 36,
     "metadata": {},
     "output_type": "execute_result"
    }
   ],
   "source": [
    "# active_events = [\"Motion detected at front door\",\"Garage door opened\"]\n",
    "# supabase.table(\"active_events\").upsert({\"user_id\": \"70c75ce4-a3af-4661-81d1-42e28ee2df9f\", \"events\": active_events}).execute()\n",
    "supabase.table(\"active_events\").select(\"events\").eq(\"user_id\", \"70c75ce4-a3af-4661-81d1-42e28ee2df9f\").execute()"
   ]
  }
 ],
 "metadata": {
  "kernelspec": {
   "display_name": ".venv",
   "language": "python",
   "name": "python3"
  },
  "language_info": {
   "codemirror_mode": {
    "name": "ipython",
    "version": 3
   },
   "file_extension": ".py",
   "mimetype": "text/x-python",
   "name": "python",
   "nbconvert_exporter": "python",
   "pygments_lexer": "ipython3",
   "version": "3.13.3"
  }
 },
 "nbformat": 4,
 "nbformat_minor": 5
}
